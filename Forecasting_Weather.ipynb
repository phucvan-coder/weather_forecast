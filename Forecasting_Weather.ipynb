{
  "nbformat": 4,
  "nbformat_minor": 0,
  "metadata": {
    "colab": {
      "name": "Forecasting Weather.ipynb",
      "provenance": [],
      "collapsed_sections": []
    },
    "kernelspec": {
      "name": "python3",
      "display_name": "Python 3"
    },
    "language_info": {
      "name": "python"
    }
  },
  "cells": [
    {
      "cell_type": "code",
      "metadata": {
        "id": "_Vd0uKzQ8d0E"
      },
      "source": [
        "#import necessary libraries for managing and visualizing dataset\n",
        "import pandas as pd\n",
        "import numpy as np\n",
        "import seaborn as sns\n",
        "import matplotlib.pyplot as plt\n",
        "%matplotlib inline"
      ],
      "execution_count": null,
      "outputs": []
    },
    {
      "cell_type": "code",
      "metadata": {
        "id": "SeTGVZdIPZKB"
      },
      "source": [
        "path = '/content/drive/MyDrive/Colab Notebooks/Developing AI Application/weather.csv'"
      ],
      "execution_count": null,
      "outputs": []
    },
    {
      "cell_type": "code",
      "metadata": {
        "colab": {
          "base_uri": "https://localhost:8080/"
        },
        "id": "tAupWnxiPl9y",
        "outputId": "e6f06394-5f56-40e6-fb8b-bce550066a1e"
      },
      "source": [
        "#read weather sample dataset\n",
        "df = pd.read_csv(path)\n",
        "#display dataset\n",
        "print(df)"
      ],
      "execution_count": null,
      "outputs": [
        {
          "output_type": "stream",
          "name": "stdout",
          "text": [
            "      YEAR  ...  Wind direction at 10 meters (Degrees)\n",
            "0     2021  ...                                  10.35\n",
            "1     2021  ...                                   6.82\n",
            "2     2021  ...                                   3.39\n",
            "3     2021  ...                                   1.63\n",
            "4     2021  ...                                 357.78\n",
            "...    ...  ...                                    ...\n",
            "2155  2021  ...                                 156.19\n",
            "2156  2021  ...                                 159.37\n",
            "2157  2021  ...                                 164.25\n",
            "2158  2021  ...                                 166.07\n",
            "2159  2021  ...                                 164.17\n",
            "\n",
            "[2160 rows x 10 columns]\n"
          ]
        }
      ]
    },
    {
      "cell_type": "markdown",
      "metadata": {
        "id": "c7OnQfohS7k1"
      },
      "source": [
        "#Data Understanding"
      ]
    },
    {
      "cell_type": "code",
      "metadata": {
        "colab": {
          "base_uri": "https://localhost:8080/",
          "height": 223
        },
        "id": "6vntJU1EP4ZZ",
        "outputId": "c25d0895-f244-4c9f-fa10-98c8e184e6ec"
      },
      "source": [
        "#display first 5 observations\n",
        "df.head()"
      ],
      "execution_count": null,
      "outputs": [
        {
          "output_type": "execute_result",
          "data": {
            "text/html": [
              "<div>\n",
              "<style scoped>\n",
              "    .dataframe tbody tr th:only-of-type {\n",
              "        vertical-align: middle;\n",
              "    }\n",
              "\n",
              "    .dataframe tbody tr th {\n",
              "        vertical-align: top;\n",
              "    }\n",
              "\n",
              "    .dataframe thead th {\n",
              "        text-align: right;\n",
              "    }\n",
              "</style>\n",
              "<table border=\"1\" class=\"dataframe\">\n",
              "  <thead>\n",
              "    <tr style=\"text-align: right;\">\n",
              "      <th></th>\n",
              "      <th>YEAR</th>\n",
              "      <th>MONTH</th>\n",
              "      <th>DAY</th>\n",
              "      <th>HOUR</th>\n",
              "      <th>Temperature at 2 meters (C)</th>\n",
              "      <th>Specific Humidity at 2 meters (g/kg)</th>\n",
              "      <th>Precipitation corrected (mm/hour)</th>\n",
              "      <th>Surface pressure (kPa)</th>\n",
              "      <th>Wind speed at 10 meters (m/s)</th>\n",
              "      <th>Wind direction at 10 meters (Degrees)</th>\n",
              "    </tr>\n",
              "  </thead>\n",
              "  <tbody>\n",
              "    <tr>\n",
              "      <th>0</th>\n",
              "      <td>2021</td>\n",
              "      <td>1</td>\n",
              "      <td>1</td>\n",
              "      <td>0</td>\n",
              "      <td>19.85</td>\n",
              "      <td>12.63</td>\n",
              "      <td>0.01</td>\n",
              "      <td>100.71</td>\n",
              "      <td>2.74</td>\n",
              "      <td>10.35</td>\n",
              "    </tr>\n",
              "    <tr>\n",
              "      <th>1</th>\n",
              "      <td>2021</td>\n",
              "      <td>1</td>\n",
              "      <td>1</td>\n",
              "      <td>1</td>\n",
              "      <td>19.57</td>\n",
              "      <td>12.57</td>\n",
              "      <td>0.01</td>\n",
              "      <td>100.65</td>\n",
              "      <td>2.57</td>\n",
              "      <td>6.82</td>\n",
              "    </tr>\n",
              "    <tr>\n",
              "      <th>2</th>\n",
              "      <td>2021</td>\n",
              "      <td>1</td>\n",
              "      <td>1</td>\n",
              "      <td>2</td>\n",
              "      <td>19.30</td>\n",
              "      <td>12.45</td>\n",
              "      <td>0.02</td>\n",
              "      <td>100.59</td>\n",
              "      <td>2.51</td>\n",
              "      <td>3.39</td>\n",
              "    </tr>\n",
              "    <tr>\n",
              "      <th>3</th>\n",
              "      <td>2021</td>\n",
              "      <td>1</td>\n",
              "      <td>1</td>\n",
              "      <td>3</td>\n",
              "      <td>19.05</td>\n",
              "      <td>12.39</td>\n",
              "      <td>0.01</td>\n",
              "      <td>100.56</td>\n",
              "      <td>2.47</td>\n",
              "      <td>1.63</td>\n",
              "    </tr>\n",
              "    <tr>\n",
              "      <th>4</th>\n",
              "      <td>2021</td>\n",
              "      <td>1</td>\n",
              "      <td>1</td>\n",
              "      <td>4</td>\n",
              "      <td>18.99</td>\n",
              "      <td>12.51</td>\n",
              "      <td>0.01</td>\n",
              "      <td>100.59</td>\n",
              "      <td>2.22</td>\n",
              "      <td>357.78</td>\n",
              "    </tr>\n",
              "  </tbody>\n",
              "</table>\n",
              "</div>"
            ],
            "text/plain": [
              "   YEAR  ...  Wind direction at 10 meters (Degrees)\n",
              "0  2021  ...                                  10.35\n",
              "1  2021  ...                                   6.82\n",
              "2  2021  ...                                   3.39\n",
              "3  2021  ...                                   1.63\n",
              "4  2021  ...                                 357.78\n",
              "\n",
              "[5 rows x 10 columns]"
            ]
          },
          "metadata": {},
          "execution_count": 4
        }
      ]
    },
    {
      "cell_type": "code",
      "metadata": {
        "colab": {
          "base_uri": "https://localhost:8080/",
          "height": 223
        },
        "id": "7JmemSOZQItD",
        "outputId": "a93387fb-3238-4d22-cce0-894fd381384a"
      },
      "source": [
        "#display last 5 observations\n",
        "df.tail()"
      ],
      "execution_count": null,
      "outputs": [
        {
          "output_type": "execute_result",
          "data": {
            "text/html": [
              "<div>\n",
              "<style scoped>\n",
              "    .dataframe tbody tr th:only-of-type {\n",
              "        vertical-align: middle;\n",
              "    }\n",
              "\n",
              "    .dataframe tbody tr th {\n",
              "        vertical-align: top;\n",
              "    }\n",
              "\n",
              "    .dataframe thead th {\n",
              "        text-align: right;\n",
              "    }\n",
              "</style>\n",
              "<table border=\"1\" class=\"dataframe\">\n",
              "  <thead>\n",
              "    <tr style=\"text-align: right;\">\n",
              "      <th></th>\n",
              "      <th>YEAR</th>\n",
              "      <th>MONTH</th>\n",
              "      <th>DAY</th>\n",
              "      <th>HOUR</th>\n",
              "      <th>Temperature at 2 meters (C)</th>\n",
              "      <th>Specific Humidity at 2 meters (g/kg)</th>\n",
              "      <th>Precipitation corrected (mm/hour)</th>\n",
              "      <th>Surface pressure (kPa)</th>\n",
              "      <th>Wind speed at 10 meters (m/s)</th>\n",
              "      <th>Wind direction at 10 meters (Degrees)</th>\n",
              "    </tr>\n",
              "  </thead>\n",
              "  <tbody>\n",
              "    <tr>\n",
              "      <th>2155</th>\n",
              "      <td>2021</td>\n",
              "      <td>3</td>\n",
              "      <td>31</td>\n",
              "      <td>19</td>\n",
              "      <td>30.33</td>\n",
              "      <td>14.77</td>\n",
              "      <td>0.0</td>\n",
              "      <td>99.90</td>\n",
              "      <td>6.77</td>\n",
              "      <td>156.19</td>\n",
              "    </tr>\n",
              "    <tr>\n",
              "      <th>2156</th>\n",
              "      <td>2021</td>\n",
              "      <td>3</td>\n",
              "      <td>31</td>\n",
              "      <td>20</td>\n",
              "      <td>28.87</td>\n",
              "      <td>15.26</td>\n",
              "      <td>0.0</td>\n",
              "      <td>99.98</td>\n",
              "      <td>5.99</td>\n",
              "      <td>159.37</td>\n",
              "    </tr>\n",
              "    <tr>\n",
              "      <th>2157</th>\n",
              "      <td>2021</td>\n",
              "      <td>3</td>\n",
              "      <td>31</td>\n",
              "      <td>21</td>\n",
              "      <td>27.94</td>\n",
              "      <td>15.69</td>\n",
              "      <td>0.0</td>\n",
              "      <td>100.04</td>\n",
              "      <td>4.95</td>\n",
              "      <td>164.25</td>\n",
              "    </tr>\n",
              "    <tr>\n",
              "      <th>2158</th>\n",
              "      <td>2021</td>\n",
              "      <td>3</td>\n",
              "      <td>31</td>\n",
              "      <td>22</td>\n",
              "      <td>27.36</td>\n",
              "      <td>16.05</td>\n",
              "      <td>0.0</td>\n",
              "      <td>100.08</td>\n",
              "      <td>4.22</td>\n",
              "      <td>166.07</td>\n",
              "    </tr>\n",
              "    <tr>\n",
              "      <th>2159</th>\n",
              "      <td>2021</td>\n",
              "      <td>3</td>\n",
              "      <td>31</td>\n",
              "      <td>23</td>\n",
              "      <td>26.93</td>\n",
              "      <td>16.48</td>\n",
              "      <td>0.0</td>\n",
              "      <td>100.09</td>\n",
              "      <td>3.81</td>\n",
              "      <td>164.17</td>\n",
              "    </tr>\n",
              "  </tbody>\n",
              "</table>\n",
              "</div>"
            ],
            "text/plain": [
              "      YEAR  ...  Wind direction at 10 meters (Degrees)\n",
              "2155  2021  ...                                 156.19\n",
              "2156  2021  ...                                 159.37\n",
              "2157  2021  ...                                 164.25\n",
              "2158  2021  ...                                 166.07\n",
              "2159  2021  ...                                 164.17\n",
              "\n",
              "[5 rows x 10 columns]"
            ]
          },
          "metadata": {},
          "execution_count": 5
        }
      ]
    },
    {
      "cell_type": "code",
      "metadata": {
        "colab": {
          "base_uri": "https://localhost:8080/"
        },
        "id": "dTPSu3kRQSWw",
        "outputId": "b8599d95-2004-475e-cc3d-bef84f468de0"
      },
      "source": [
        "#display rows and columns of dataset\n",
        "df.shape"
      ],
      "execution_count": null,
      "outputs": [
        {
          "output_type": "execute_result",
          "data": {
            "text/plain": [
              "(2160, 10)"
            ]
          },
          "metadata": {},
          "execution_count": 6
        }
      ]
    },
    {
      "cell_type": "code",
      "metadata": {
        "colab": {
          "base_uri": "https://localhost:8080/",
          "height": 318
        },
        "id": "nnpbTrJpSrmz",
        "outputId": "37103fd2-8bcc-450a-b04b-81f8b95956e5"
      },
      "source": [
        "#describe the dataset\n",
        "df.describe()"
      ],
      "execution_count": null,
      "outputs": [
        {
          "output_type": "execute_result",
          "data": {
            "text/html": [
              "<div>\n",
              "<style scoped>\n",
              "    .dataframe tbody tr th:only-of-type {\n",
              "        vertical-align: middle;\n",
              "    }\n",
              "\n",
              "    .dataframe tbody tr th {\n",
              "        vertical-align: top;\n",
              "    }\n",
              "\n",
              "    .dataframe thead th {\n",
              "        text-align: right;\n",
              "    }\n",
              "</style>\n",
              "<table border=\"1\" class=\"dataframe\">\n",
              "  <thead>\n",
              "    <tr style=\"text-align: right;\">\n",
              "      <th></th>\n",
              "      <th>YEAR</th>\n",
              "      <th>MONTH</th>\n",
              "      <th>DAY</th>\n",
              "      <th>HOUR</th>\n",
              "      <th>Temperature at 2 meters (C)</th>\n",
              "      <th>Specific Humidity at 2 meters (g/kg)</th>\n",
              "      <th>Precipitation corrected (mm/hour)</th>\n",
              "      <th>Surface pressure (kPa)</th>\n",
              "      <th>Wind speed at 10 meters (m/s)</th>\n",
              "      <th>Wind direction at 10 meters (Degrees)</th>\n",
              "    </tr>\n",
              "  </thead>\n",
              "  <tbody>\n",
              "    <tr>\n",
              "      <th>count</th>\n",
              "      <td>2160.0</td>\n",
              "      <td>2160.000000</td>\n",
              "      <td>2160.000000</td>\n",
              "      <td>2160.000000</td>\n",
              "      <td>2160.000000</td>\n",
              "      <td>2160.000000</td>\n",
              "      <td>2160.000000</td>\n",
              "      <td>2160.000000</td>\n",
              "      <td>2160.000000</td>\n",
              "      <td>2160.000000</td>\n",
              "    </tr>\n",
              "    <tr>\n",
              "      <th>mean</th>\n",
              "      <td>2021.0</td>\n",
              "      <td>2.000000</td>\n",
              "      <td>15.533333</td>\n",
              "      <td>11.500000</td>\n",
              "      <td>26.779157</td>\n",
              "      <td>14.577634</td>\n",
              "      <td>0.004907</td>\n",
              "      <td>100.509444</td>\n",
              "      <td>2.625134</td>\n",
              "      <td>125.655060</td>\n",
              "    </tr>\n",
              "    <tr>\n",
              "      <th>std</th>\n",
              "      <td>0.0</td>\n",
              "      <td>0.830186</td>\n",
              "      <td>8.713695</td>\n",
              "      <td>6.923789</td>\n",
              "      <td>5.114564</td>\n",
              "      <td>2.006087</td>\n",
              "      <td>0.034652</td>\n",
              "      <td>0.235220</td>\n",
              "      <td>1.521029</td>\n",
              "      <td>89.311855</td>\n",
              "    </tr>\n",
              "    <tr>\n",
              "      <th>min</th>\n",
              "      <td>2021.0</td>\n",
              "      <td>1.000000</td>\n",
              "      <td>1.000000</td>\n",
              "      <td>0.000000</td>\n",
              "      <td>14.680000</td>\n",
              "      <td>8.610000</td>\n",
              "      <td>0.000000</td>\n",
              "      <td>99.630000</td>\n",
              "      <td>0.070000</td>\n",
              "      <td>0.000000</td>\n",
              "    </tr>\n",
              "    <tr>\n",
              "      <th>25%</th>\n",
              "      <td>2021.0</td>\n",
              "      <td>1.000000</td>\n",
              "      <td>8.000000</td>\n",
              "      <td>5.750000</td>\n",
              "      <td>22.897500</td>\n",
              "      <td>13.240000</td>\n",
              "      <td>0.000000</td>\n",
              "      <td>100.360000</td>\n",
              "      <td>1.530000</td>\n",
              "      <td>64.050000</td>\n",
              "    </tr>\n",
              "    <tr>\n",
              "      <th>50%</th>\n",
              "      <td>2021.0</td>\n",
              "      <td>2.000000</td>\n",
              "      <td>15.500000</td>\n",
              "      <td>11.500000</td>\n",
              "      <td>25.970000</td>\n",
              "      <td>14.710000</td>\n",
              "      <td>0.000000</td>\n",
              "      <td>100.520000</td>\n",
              "      <td>2.280000</td>\n",
              "      <td>120.610000</td>\n",
              "    </tr>\n",
              "    <tr>\n",
              "      <th>75%</th>\n",
              "      <td>2021.0</td>\n",
              "      <td>3.000000</td>\n",
              "      <td>23.000000</td>\n",
              "      <td>17.250000</td>\n",
              "      <td>30.210000</td>\n",
              "      <td>16.170000</td>\n",
              "      <td>0.000000</td>\n",
              "      <td>100.680000</td>\n",
              "      <td>3.400000</td>\n",
              "      <td>148.867500</td>\n",
              "    </tr>\n",
              "    <tr>\n",
              "      <th>max</th>\n",
              "      <td>2021.0</td>\n",
              "      <td>3.000000</td>\n",
              "      <td>31.000000</td>\n",
              "      <td>23.000000</td>\n",
              "      <td>40.260000</td>\n",
              "      <td>19.650000</td>\n",
              "      <td>0.650000</td>\n",
              "      <td>101.130000</td>\n",
              "      <td>8.340000</td>\n",
              "      <td>359.810000</td>\n",
              "    </tr>\n",
              "  </tbody>\n",
              "</table>\n",
              "</div>"
            ],
            "text/plain": [
              "         YEAR  ...  Wind direction at 10 meters (Degrees)\n",
              "count  2160.0  ...                            2160.000000\n",
              "mean   2021.0  ...                             125.655060\n",
              "std       0.0  ...                              89.311855\n",
              "min    2021.0  ...                               0.000000\n",
              "25%    2021.0  ...                              64.050000\n",
              "50%    2021.0  ...                             120.610000\n",
              "75%    2021.0  ...                             148.867500\n",
              "max    2021.0  ...                             359.810000\n",
              "\n",
              "[8 rows x 10 columns]"
            ]
          },
          "metadata": {},
          "execution_count": 7
        }
      ]
    },
    {
      "cell_type": "code",
      "metadata": {
        "colab": {
          "base_uri": "https://localhost:8080/"
        },
        "id": "lmFXmNwkS4MP",
        "outputId": "ccb4e1ab-0df9-4ee2-d856-941a2901df63"
      },
      "source": [
        "#check missing values\n",
        "df.isnull().any()"
      ],
      "execution_count": null,
      "outputs": [
        {
          "output_type": "execute_result",
          "data": {
            "text/plain": [
              "YEAR                                     False\n",
              "MONTH                                    False\n",
              "DAY                                      False\n",
              "HOUR                                     False\n",
              "Temperature at 2 meters (C)              False\n",
              "Specific Humidity at 2 meters (g/kg)     False\n",
              "Precipitation corrected (mm/hour)        False\n",
              "Surface pressure (kPa)                   False\n",
              "Wind speed at 10 meters (m/s)            False\n",
              "Wind direction at 10 meters (Degrees)    False\n",
              "dtype: bool"
            ]
          },
          "metadata": {},
          "execution_count": 8
        }
      ]
    },
    {
      "cell_type": "code",
      "metadata": {
        "colab": {
          "base_uri": "https://localhost:8080/",
          "height": 265
        },
        "id": "3RJoELL5U-Lr",
        "outputId": "653cf400-5442-40c6-c9d4-e8fca1e64626"
      },
      "source": [
        "#plotting boxplot to check the outliers in 6 main features such as Temperature at 2 meters (C),\n",
        "#Specific Humidity at 2 meters (g/kg),\tPrecipitation corrected (mm/hour),\n",
        "#Surface pressure (kPa),\tWind speed at 10 meters (m/s),\tWind direction at 10 meters (Degrees)\n",
        "df[['Temperature at 2 meters (C)',\t'Specific Humidity at 2 meters (g/kg)'\n",
        ",\t'Precipitation corrected (mm/hour)',\t'Surface pressure (kPa)',\t'Wind speed at 10 meters (m/s)',\t'Wind direction at 10 meters (Degrees)']].boxplot()\n",
        "plt.show()"
      ],
      "execution_count": null,
      "outputs": [
        {
          "output_type": "display_data",
          "data": {
            "image/png": "[encoded data removed]",
            "text/plain": [
              "<Figure size 432x288 with 1 Axes>"
            ]
          },
          "metadata": {
            "needs_background": "light"
          }
        }
      ]
    },
    {
      "cell_type": "code",
      "metadata": {
        "colab": {
          "base_uri": "https://localhost:8080/",
          "height": 265
        },
        "id": "A-Hd5nRQVNLq",
        "outputId": "1ff7bf20-9432-407b-bebd-d60de6e7399c"
      },
      "source": [
        "#Temperature at 2 meters (C)\n",
        "df[['Temperature at 2 meters (C)']].boxplot()\n",
        "plt.show()"
      ],
      "execution_count": null,
      "outputs": [
        {
          "output_type": "display_data",
          "data": {
            "image/png": "[encoded data removed]",
            "text/plain": [
              "<Figure size 432x288 with 1 Axes>"
            ]
          },
          "metadata": {
            "needs_background": "light"
          }
        }
      ]
    },
    {
      "cell_type": "code",
      "metadata": {
        "colab": {
          "base_uri": "https://localhost:8080/",
          "height": 266
        },
        "id": "gPT6wVjbWVKy",
        "outputId": "47875803-ba98-4ca9-afff-f0ff6af28ce2"
      },
      "source": [
        "#Specific Humidity at 2 meters (g/kg)\n",
        "df[['Specific Humidity at 2 meters (g/kg)']].boxplot()\n",
        "plt.show()"
      ],
      "execution_count": null,
      "outputs": [
        {
          "output_type": "display_data",
          "data": {
            "image/png": "[encoded data removed]",
            "text/plain": [
              "<Figure size 432x288 with 1 Axes>"
            ]
          },
          "metadata": {
            "needs_background": "light"
          }
        }
      ]
    },
    {
      "cell_type": "code",
      "metadata": {
        "colab": {
          "base_uri": "https://localhost:8080/",
          "height": 265
        },
        "id": "YNfWVCUDWcWv",
        "outputId": "7accc69a-5dfe-4941-fcab-66b0fb81ea13"
      },
      "source": [
        "#Precipitation corrected (mm/hour)\n",
        "df[['Precipitation corrected (mm/hour)']].boxplot()\n",
        "plt.show()"
      ],
      "execution_count": null,
      "outputs": [
        {
          "output_type": "display_data",
          "data": {
            "image/png": "[encoded data removed]",
            "text/plain": [
              "<Figure size 432x288 with 1 Axes>"
            ]
          },
          "metadata": {
            "needs_background": "light"
          }
        }
      ]
    },
    {
      "cell_type": "code",
      "metadata": {
        "colab": {
          "base_uri": "https://localhost:8080/",
          "height": 269
        },
        "id": "FicIQsmrWn5T",
        "outputId": "c67afa2a-996c-454e-fd8d-873fde5de08a"
      },
      "source": [
        "#Surface pressure (kPa)\n",
        "df[['Surface pressure (kPa)']].boxplot()\n",
        "plt.show()"
      ],
      "execution_count": null,
      "outputs": [
        {
          "output_type": "display_data",
          "data": {
            "image/png": "[encoded data removed]",
            "text/plain": [
              "<Figure size 432x288 with 1 Axes>"
            ]
          },
          "metadata": {
            "needs_background": "light"
          }
        }
      ]
    },
    {
      "cell_type": "code",
      "metadata": {
        "colab": {
          "base_uri": "https://localhost:8080/",
          "height": 265
        },
        "id": "LJ-vSr0aWxsx",
        "outputId": "d96f16bb-4412-401d-9fd9-6e7191f64945"
      },
      "source": [
        "#Wind speed at 10 meters (m/s)\n",
        "df[['Wind speed at 10 meters (m/s)']].boxplot()\n",
        "plt.show()"
      ],
      "execution_count": null,
      "outputs": [
        {
          "output_type": "display_data",
          "data": {
            "image/png": "[encoded data removed]",
            "text/plain": [
              "<Figure size 432x288 with 1 Axes>"
            ]
          },
          "metadata": {
            "needs_background": "light"
          }
        }
      ]
    },
    {
      "cell_type": "code",
      "metadata": {
        "colab": {
          "base_uri": "https://localhost:8080/",
          "height": 265
        },
        "id": "dggf3F0jW7MR",
        "outputId": "8f4b6b4f-c186-49c0-c799-1030d5ec8138"
      },
      "source": [
        "#Wind direction at 10 meters (Degrees)\n",
        "df[['Wind direction at 10 meters (Degrees)']].boxplot()\n",
        "plt.show()"
      ],
      "execution_count": null,
      "outputs": [
        {
          "output_type": "display_data",
          "data": {
            "image/png": "[encoded data removed]",
            "text/plain": [
              "<Figure size 432x288 with 1 Axes>"
            ]
          },
          "metadata": {
            "needs_background": "light"
          }
        }
      ]
    },
    {
      "cell_type": "code",
      "metadata": {
        "colab": {
          "base_uri": "https://localhost:8080/",
          "height": 729
        },
        "id": "7YghVBiFXIuo",
        "outputId": "b9089db1-cb14-4dc9-90da-08df0477ff43"
      },
      "source": [
        "#using histogram to check distribution of each feature\n",
        "df[['Temperature at 2 meters (C)',\t'Specific Humidity at 2 meters (g/kg)'\n",
        ",\t'Precipitation corrected (mm/hour)',\t'Surface pressure (kPa)',\t'Wind speed at 10 meters (m/s)',\t'Wind direction at 10 meters (Degrees)']].hist(figsize = (10,10))"
      ],
      "execution_count": null,
      "outputs": [
        {
          "output_type": "execute_result",
          "data": {
            "text/plain": [
              "array([[<matplotlib.axes._subplots.AxesSubplot object at 0x7fa61e7495d0>,\n",
              "        <matplotlib.axes._subplots.AxesSubplot object at 0x7fa61e749090>],\n",
              "       [<matplotlib.axes._subplots.AxesSubplot object at 0x7fa61e6d1510>,\n",
              "        <matplotlib.axes._subplots.AxesSubplot object at 0x7fa61e688b10>],\n",
              "       [<matplotlib.axes._subplots.AxesSubplot object at 0x7fa61e64a150>,\n",
              "        <matplotlib.axes._subplots.AxesSubplot object at 0x7fa61e5ff750>]],\n",
              "      dtype=object)"
            ]
          },
          "metadata": {},
          "execution_count": 16
        },
        {
          "output_type": "display_data",
          "data": {
            "image/png": "[encoded data removed]",
            "text/plain": [
              "<Figure size 720x720 with 6 Axes>"
            ]
          },
          "metadata": {
            "needs_background": "light"
          }
        }
      ]
    },
    {
      "cell_type": "markdown",
      "metadata": {
        "id": "T_85dSAAhUbw"
      },
      "source": [
        "#Data Preparation"
      ]
    },
    {
      "cell_type": "markdown",
      "metadata": {
        "id": "EJsNQyScBgbm"
      },
      "source": [
        "dropping features"
      ]
    },
    {
      "cell_type": "code",
      "metadata": {
        "id": "pF4Lp-z08XcN"
      },
      "source": [
        "#drop features YEAR, MONTH, DAY and HOUR\n",
        "df.drop(['YEAR', 'MONTH', 'DAY', 'HOUR'], axis=1, inplace=True)"
      ],
      "execution_count": null,
      "outputs": []
    },
    {
      "cell_type": "code",
      "metadata": {
        "colab": {
          "base_uri": "https://localhost:8080/",
          "height": 223
        },
        "id": "KPcu8YQcAzqw",
        "outputId": "fb7709d0-a983-46df-a2c7-66a9aa7582fd"
      },
      "source": [
        "df.head()"
      ],
      "execution_count": null,
      "outputs": [
        {
          "output_type": "execute_result",
          "data": {
            "text/html": [
              "<div>\n",
              "<style scoped>\n",
              "    .dataframe tbody tr th:only-of-type {\n",
              "        vertical-align: middle;\n",
              "    }\n",
              "\n",
              "    .dataframe tbody tr th {\n",
              "        vertical-align: top;\n",
              "    }\n",
              "\n",
              "    .dataframe thead th {\n",
              "        text-align: right;\n",
              "    }\n",
              "</style>\n",
              "<table border=\"1\" class=\"dataframe\">\n",
              "  <thead>\n",
              "    <tr style=\"text-align: right;\">\n",
              "      <th></th>\n",
              "      <th>Temperature at 2 meters (C)</th>\n",
              "      <th>Specific Humidity at 2 meters (g/kg)</th>\n",
              "      <th>Precipitation corrected (mm/hour)</th>\n",
              "      <th>Surface pressure (kPa)</th>\n",
              "      <th>Wind speed at 10 meters (m/s)</th>\n",
              "      <th>Wind direction at 10 meters (Degrees)</th>\n",
              "    </tr>\n",
              "  </thead>\n",
              "  <tbody>\n",
              "    <tr>\n",
              "      <th>0</th>\n",
              "      <td>19.85</td>\n",
              "      <td>12.63</td>\n",
              "      <td>0.01</td>\n",
              "      <td>100.71</td>\n",
              "      <td>2.74</td>\n",
              "      <td>10.35</td>\n",
              "    </tr>\n",
              "    <tr>\n",
              "      <th>1</th>\n",
              "      <td>19.57</td>\n",
              "      <td>12.57</td>\n",
              "      <td>0.01</td>\n",
              "      <td>100.65</td>\n",
              "      <td>2.57</td>\n",
              "      <td>6.82</td>\n",
              "    </tr>\n",
              "    <tr>\n",
              "      <th>2</th>\n",
              "      <td>19.30</td>\n",
              "      <td>12.45</td>\n",
              "      <td>0.02</td>\n",
              "      <td>100.59</td>\n",
              "      <td>2.51</td>\n",
              "      <td>3.39</td>\n",
              "    </tr>\n",
              "    <tr>\n",
              "      <th>3</th>\n",
              "      <td>19.05</td>\n",
              "      <td>12.39</td>\n",
              "      <td>0.01</td>\n",
              "      <td>100.56</td>\n",
              "      <td>2.47</td>\n",
              "      <td>1.63</td>\n",
              "    </tr>\n",
              "    <tr>\n",
              "      <th>4</th>\n",
              "      <td>18.99</td>\n",
              "      <td>12.51</td>\n",
              "      <td>0.01</td>\n",
              "      <td>100.59</td>\n",
              "      <td>2.22</td>\n",
              "      <td>357.78</td>\n",
              "    </tr>\n",
              "  </tbody>\n",
              "</table>\n",
              "</div>"
            ],
            "text/plain": [
              "   Temperature at 2 meters (C)  ...  Wind direction at 10 meters (Degrees)\n",
              "0                        19.85  ...                                  10.35\n",
              "1                        19.57  ...                                   6.82\n",
              "2                        19.30  ...                                   3.39\n",
              "3                        19.05  ...                                   1.63\n",
              "4                        18.99  ...                                 357.78\n",
              "\n",
              "[5 rows x 6 columns]"
            ]
          },
          "metadata": {},
          "execution_count": 18
        }
      ]
    },
    {
      "cell_type": "markdown",
      "metadata": {
        "id": "07UG3rcKU24t"
      },
      "source": [
        "Create New Feature"
      ]
    },
    {
      "cell_type": "code",
      "metadata": {
        "id": "6MlINfwnU7ov"
      },
      "source": [
        "#Now we get the values from the 25th position til the end of Temperature at 2 meters (C) column and put\n",
        "#them in Temperature after day and this feature is the output\n",
        "df['Temperature_after_day']=df['Temperature at 2 meters (C)'].shift(-24)"
      ],
      "execution_count": null,
      "outputs": []
    },
    {
      "cell_type": "code",
      "metadata": {
        "colab": {
          "base_uri": "https://localhost:8080/",
          "height": 223
        },
        "id": "T40_5AUrV_kN",
        "outputId": "2fa86159-d221-48e4-f5d5-cd33f2b2e816"
      },
      "source": [
        "df.head()"
      ],
      "execution_count": null,
      "outputs": [
        {
          "output_type": "execute_result",
          "data": {
            "text/html": [
              "<div>\n",
              "<style scoped>\n",
              "    .dataframe tbody tr th:only-of-type {\n",
              "        vertical-align: middle;\n",
              "    }\n",
              "\n",
              "    .dataframe tbody tr th {\n",
              "        vertical-align: top;\n",
              "    }\n",
              "\n",
              "    .dataframe thead th {\n",
              "        text-align: right;\n",
              "    }\n",
              "</style>\n",
              "<table border=\"1\" class=\"dataframe\">\n",
              "  <thead>\n",
              "    <tr style=\"text-align: right;\">\n",
              "      <th></th>\n",
              "      <th>Temperature at 2 meters (C)</th>\n",
              "      <th>Specific Humidity at 2 meters (g/kg)</th>\n",
              "      <th>Precipitation corrected (mm/hour)</th>\n",
              "      <th>Surface pressure (kPa)</th>\n",
              "      <th>Wind speed at 10 meters (m/s)</th>\n",
              "      <th>Wind direction at 10 meters (Degrees)</th>\n",
              "      <th>Temperature_after_day</th>\n",
              "    </tr>\n",
              "  </thead>\n",
              "  <tbody>\n",
              "    <tr>\n",
              "      <th>0</th>\n",
              "      <td>19.85</td>\n",
              "      <td>12.63</td>\n",
              "      <td>0.01</td>\n",
              "      <td>100.71</td>\n",
              "      <td>2.74</td>\n",
              "      <td>10.35</td>\n",
              "      <td>19.70</td>\n",
              "    </tr>\n",
              "    <tr>\n",
              "      <th>1</th>\n",
              "      <td>19.57</td>\n",
              "      <td>12.57</td>\n",
              "      <td>0.01</td>\n",
              "      <td>100.65</td>\n",
              "      <td>2.57</td>\n",
              "      <td>6.82</td>\n",
              "      <td>19.27</td>\n",
              "    </tr>\n",
              "    <tr>\n",
              "      <th>2</th>\n",
              "      <td>19.30</td>\n",
              "      <td>12.45</td>\n",
              "      <td>0.02</td>\n",
              "      <td>100.59</td>\n",
              "      <td>2.51</td>\n",
              "      <td>3.39</td>\n",
              "      <td>19.01</td>\n",
              "    </tr>\n",
              "    <tr>\n",
              "      <th>3</th>\n",
              "      <td>19.05</td>\n",
              "      <td>12.39</td>\n",
              "      <td>0.01</td>\n",
              "      <td>100.56</td>\n",
              "      <td>2.47</td>\n",
              "      <td>1.63</td>\n",
              "      <td>18.80</td>\n",
              "    </tr>\n",
              "    <tr>\n",
              "      <th>4</th>\n",
              "      <td>18.99</td>\n",
              "      <td>12.51</td>\n",
              "      <td>0.01</td>\n",
              "      <td>100.59</td>\n",
              "      <td>2.22</td>\n",
              "      <td>357.78</td>\n",
              "      <td>18.50</td>\n",
              "    </tr>\n",
              "  </tbody>\n",
              "</table>\n",
              "</div>"
            ],
            "text/plain": [
              "   Temperature at 2 meters (C)  ...  Temperature_after_day\n",
              "0                        19.85  ...                  19.70\n",
              "1                        19.57  ...                  19.27\n",
              "2                        19.30  ...                  19.01\n",
              "3                        19.05  ...                  18.80\n",
              "4                        18.99  ...                  18.50\n",
              "\n",
              "[5 rows x 7 columns]"
            ]
          },
          "metadata": {},
          "execution_count": 20
        }
      ]
    },
    {
      "cell_type": "code",
      "metadata": {
        "colab": {
          "base_uri": "https://localhost:8080/"
        },
        "id": "dcAd05TrYJjH",
        "outputId": "db1c825f-e15a-449a-ecaa-a15faf826911"
      },
      "source": [
        "df.isnull().any()"
      ],
      "execution_count": null,
      "outputs": [
        {
          "output_type": "execute_result",
          "data": {
            "text/plain": [
              "Temperature at 2 meters (C)              False\n",
              "Specific Humidity at 2 meters (g/kg)     False\n",
              "Precipitation corrected (mm/hour)        False\n",
              "Surface pressure (kPa)                   False\n",
              "Wind speed at 10 meters (m/s)            False\n",
              "Wind direction at 10 meters (Degrees)    False\n",
              "Temperature_after_day                     True\n",
              "dtype: bool"
            ]
          },
          "metadata": {},
          "execution_count": 21
        }
      ]
    },
    {
      "cell_type": "code",
      "source": [
        "#handling missing values\n",
        "df.dropna(inplace=True)"
      ],
      "metadata": {
        "id": "U5oGKcLrtWm6"
      },
      "execution_count": null,
      "outputs": []
    },
    {
      "cell_type": "code",
      "source": [
        "df.isnull().any()"
      ],
      "metadata": {
        "colab": {
          "base_uri": "https://localhost:8080/"
        },
        "id": "rBBxtdkdtbVa",
        "outputId": "3fddc446-bc2a-4dd8-e458-345b3833efb3"
      },
      "execution_count": null,
      "outputs": [
        {
          "output_type": "execute_result",
          "data": {
            "text/plain": [
              "Temperature at 2 meters (C)              False\n",
              "Specific Humidity at 2 meters (g/kg)     False\n",
              "Precipitation corrected (mm/hour)        False\n",
              "Surface pressure (kPa)                   False\n",
              "Wind speed at 10 meters (m/s)            False\n",
              "Wind direction at 10 meters (Degrees)    False\n",
              "Temperature_after_day                    False\n",
              "dtype: bool"
            ]
          },
          "metadata": {},
          "execution_count": 23
        }
      ]
    },
    {
      "cell_type": "markdown",
      "metadata": {
        "id": "Me9-itErWqPx"
      },
      "source": [
        "Data preprocessing"
      ]
    },
    {
      "cell_type": "code",
      "metadata": {
        "id": "ZxTTA0TaX1iv"
      },
      "source": [
        "#Now we will preprocessing data and we will use the mean removal method \n",
        "#to remove a mean from every feature so that it could center on zero\n",
        "#It also helps to remove bias from the feature\n",
        "from sklearn import preprocessing\n",
        "X=df.drop('Temperature_after_day', axis=1).values\n",
        "X=preprocessing.scale(X)\n",
        "y=df['Temperature_after_day'].values"
      ],
      "execution_count": null,
      "outputs": []
    },
    {
      "cell_type": "code",
      "metadata": {
        "id": "XHBLZRUsYVuJ",
        "colab": {
          "base_uri": "https://localhost:8080/"
        },
        "outputId": "851f1a71-5633-415b-d094-b076a2329ca7"
      },
      "source": [
        "#Now the mean of every feature in input date is almost equal 0\n",
        "X.mean(axis=0)"
      ],
      "execution_count": null,
      "outputs": [
        {
          "output_type": "execute_result",
          "data": {
            "text/plain": [
              "array([ 7.98362624e-17, -1.01125932e-15,  2.66120875e-17, -1.49027690e-14,\n",
              "       -1.59672525e-16, -5.98771968e-17])"
            ]
          },
          "metadata": {},
          "execution_count": 25
        }
      ]
    },
    {
      "cell_type": "code",
      "metadata": {
        "id": "s7X8SUBJYWn8",
        "colab": {
          "base_uri": "https://localhost:8080/"
        },
        "outputId": "1778fcd3-2ec5-46b6-e18b-cd75cacb1140"
      },
      "source": [
        "#standarn deviation (độ lệch chuẩn)\n",
        "X.std()"
      ],
      "execution_count": null,
      "outputs": [
        {
          "output_type": "execute_result",
          "data": {
            "text/plain": [
              "1.0"
            ]
          },
          "metadata": {},
          "execution_count": 26
        }
      ]
    },
    {
      "cell_type": "markdown",
      "metadata": {
        "id": "lyYcRaMSW2NE"
      },
      "source": [
        "Splitting data"
      ]
    },
    {
      "cell_type": "code",
      "metadata": {
        "id": "bUxcUfa2YY2_"
      },
      "source": [
        "#We will split the dataset into 2 parts, 70% for training and 30% for testing\n",
        "from sklearn.model_selection import train_test_split\n",
        "X_train, X_test, y_train, y_test = train_test_split(X, y, test_size=0.3, random_state=42)"
      ],
      "execution_count": null,
      "outputs": []
    },
    {
      "cell_type": "markdown",
      "metadata": {
        "id": "pQ7DQByeW7p6"
      },
      "source": [
        "Calculating importance of each feature"
      ]
    },
    {
      "cell_type": "code",
      "metadata": {
        "id": "RUtujvhSUtNQ",
        "colab": {
          "base_uri": "https://localhost:8080/"
        },
        "outputId": "106f88e1-09dd-4b73-a304-72ded0ba05b9"
      },
      "source": [
        "from sklearn.ensemble import RandomForestRegressor\n",
        "\n",
        "reg=RandomForestRegressor(n_estimators=500,random_state=42, max_features=0.3, max_depth=10, min_samples_leaf=3)\n",
        "#fit the model\n",
        "reg.fit(X_train,y_train)"
      ],
      "execution_count": null,
      "outputs": [
        {
          "output_type": "execute_result",
          "data": {
            "text/plain": [
              "RandomForestRegressor(max_depth=10, max_features=0.3, min_samples_leaf=3,\n",
              "                      n_estimators=500, random_state=42)"
            ]
          },
          "metadata": {},
          "execution_count": 28
        }
      ]
    },
    {
      "cell_type": "code",
      "metadata": {
        "id": "zLauJafNYfye",
        "colab": {
          "base_uri": "https://localhost:8080/"
        },
        "outputId": "823e120f-424e-43ff-b2bb-e3cc2917b22c"
      },
      "source": [
        "#calculating the importance of feature\n",
        "reg.feature_importances_"
      ],
      "execution_count": null,
      "outputs": [
        {
          "output_type": "execute_result",
          "data": {
            "text/plain": [
              "array([0.57270285, 0.11519083, 0.00633951, 0.15199897, 0.08041075,\n",
              "       0.07335709])"
            ]
          },
          "metadata": {},
          "execution_count": 29
        }
      ]
    },
    {
      "cell_type": "code",
      "metadata": {
        "id": "1fuKdguhYgmv",
        "colab": {
          "base_uri": "https://localhost:8080/",
          "height": 298
        },
        "outputId": "8bfa80b9-e5c8-42b2-f060-134939db724d"
      },
      "source": [
        "plt.title('The importance of feature')\n",
        "plt.barh(['Temperature at 2 meters (C)',\t'Specific Humidity at 2 meters (g/kg)'\n",
        ",\t'Precipitation corrected (mm/hour)',\t'Surface pressure (kPa)',\t'Wind speed at 10 meters (m/s)',\t'Wind direction at 10 meters (Degrees)'], reg.feature_importances_)"
      ],
      "execution_count": null,
      "outputs": [
        {
          "output_type": "execute_result",
          "data": {
            "text/plain": [
              "<BarContainer object of 6 artists>"
            ]
          },
          "metadata": {},
          "execution_count": 30
        },
        {
          "output_type": "display_data",
          "data": {
            "image/png": "[encoded data removed]",
            "text/plain": [
              "<Figure size 432x288 with 1 Axes>"
            ]
          },
          "metadata": {
            "needs_background": "light"
          }
        }
      ]
    },
    {
      "cell_type": "markdown",
      "metadata": {
        "id": "jQGzJJuRZUHG"
      },
      "source": [
        "Dropping Percipitation corrected (mm/hour)"
      ]
    },
    {
      "cell_type": "code",
      "metadata": {
        "id": "KZrjAxyoZTOa"
      },
      "source": [
        "df.drop(['Precipitation corrected (mm/hour)'], axis=1, inplace=True)"
      ],
      "execution_count": null,
      "outputs": []
    },
    {
      "cell_type": "code",
      "metadata": {
        "id": "sUDLYxKNVYA1",
        "colab": {
          "base_uri": "https://localhost:8080/",
          "height": 223
        },
        "outputId": "01890b5a-219b-4ae6-b311-e27f4d133952"
      },
      "source": [
        "df.head()"
      ],
      "execution_count": null,
      "outputs": [
        {
          "output_type": "execute_result",
          "data": {
            "text/html": [
              "<div>\n",
              "<style scoped>\n",
              "    .dataframe tbody tr th:only-of-type {\n",
              "        vertical-align: middle;\n",
              "    }\n",
              "\n",
              "    .dataframe tbody tr th {\n",
              "        vertical-align: top;\n",
              "    }\n",
              "\n",
              "    .dataframe thead th {\n",
              "        text-align: right;\n",
              "    }\n",
              "</style>\n",
              "<table border=\"1\" class=\"dataframe\">\n",
              "  <thead>\n",
              "    <tr style=\"text-align: right;\">\n",
              "      <th></th>\n",
              "      <th>Temperature at 2 meters (C)</th>\n",
              "      <th>Specific Humidity at 2 meters (g/kg)</th>\n",
              "      <th>Surface pressure (kPa)</th>\n",
              "      <th>Wind speed at 10 meters (m/s)</th>\n",
              "      <th>Wind direction at 10 meters (Degrees)</th>\n",
              "      <th>Temperature_after_day</th>\n",
              "    </tr>\n",
              "  </thead>\n",
              "  <tbody>\n",
              "    <tr>\n",
              "      <th>0</th>\n",
              "      <td>19.85</td>\n",
              "      <td>12.63</td>\n",
              "      <td>100.71</td>\n",
              "      <td>2.74</td>\n",
              "      <td>10.35</td>\n",
              "      <td>19.70</td>\n",
              "    </tr>\n",
              "    <tr>\n",
              "      <th>1</th>\n",
              "      <td>19.57</td>\n",
              "      <td>12.57</td>\n",
              "      <td>100.65</td>\n",
              "      <td>2.57</td>\n",
              "      <td>6.82</td>\n",
              "      <td>19.27</td>\n",
              "    </tr>\n",
              "    <tr>\n",
              "      <th>2</th>\n",
              "      <td>19.30</td>\n",
              "      <td>12.45</td>\n",
              "      <td>100.59</td>\n",
              "      <td>2.51</td>\n",
              "      <td>3.39</td>\n",
              "      <td>19.01</td>\n",
              "    </tr>\n",
              "    <tr>\n",
              "      <th>3</th>\n",
              "      <td>19.05</td>\n",
              "      <td>12.39</td>\n",
              "      <td>100.56</td>\n",
              "      <td>2.47</td>\n",
              "      <td>1.63</td>\n",
              "      <td>18.80</td>\n",
              "    </tr>\n",
              "    <tr>\n",
              "      <th>4</th>\n",
              "      <td>18.99</td>\n",
              "      <td>12.51</td>\n",
              "      <td>100.59</td>\n",
              "      <td>2.22</td>\n",
              "      <td>357.78</td>\n",
              "      <td>18.50</td>\n",
              "    </tr>\n",
              "  </tbody>\n",
              "</table>\n",
              "</div>"
            ],
            "text/plain": [
              "   Temperature at 2 meters (C)  ...  Temperature_after_day\n",
              "0                        19.85  ...                  19.70\n",
              "1                        19.57  ...                  19.27\n",
              "2                        19.30  ...                  19.01\n",
              "3                        19.05  ...                  18.80\n",
              "4                        18.99  ...                  18.50\n",
              "\n",
              "[5 rows x 6 columns]"
            ]
          },
          "metadata": {},
          "execution_count": 32
        }
      ]
    },
    {
      "cell_type": "markdown",
      "metadata": {
        "id": "21gR4zFAXAmJ"
      },
      "source": [
        "Data preprocessing"
      ]
    },
    {
      "cell_type": "code",
      "metadata": {
        "id": "Bon8HQ4QXPqJ"
      },
      "source": [
        "#Now we will preprocessing data and we will use the mean removal method \n",
        "#to remove a mean from every feature so that it could center on zero\n",
        "#It also helps to remove bias from the feature\n",
        "from sklearn import preprocessing\n",
        "df.dropna(inplace=True)\n",
        "X=df.drop('Temperature_after_day', axis=1).values\n",
        "X=preprocessing.scale(X)\n",
        "y=df['Temperature_after_day'].values"
      ],
      "execution_count": null,
      "outputs": []
    },
    {
      "cell_type": "code",
      "metadata": {
        "id": "yqmt9dvJXYfX",
        "colab": {
          "base_uri": "https://localhost:8080/"
        },
        "outputId": "96f02cc3-2914-4acc-9b2c-c9e8f1540356"
      },
      "source": [
        "#Now the mean of every feature in input date is almost equal 0\n",
        "X.mean(axis=0)"
      ],
      "execution_count": null,
      "outputs": [
        {
          "output_type": "execute_result",
          "data": {
            "text/plain": [
              "array([ 7.98362624e-17, -1.01125932e-15, -1.49027690e-14, -1.59672525e-16,\n",
              "       -5.98771968e-17])"
            ]
          },
          "metadata": {},
          "execution_count": 34
        }
      ]
    },
    {
      "cell_type": "code",
      "metadata": {
        "id": "lZjna5eFXZbA",
        "colab": {
          "base_uri": "https://localhost:8080/"
        },
        "outputId": "7285aa2b-3817-4a46-b65c-4d658635a2d9"
      },
      "source": [
        "#standarn deviation (độ lệch chuẩn)\n",
        "X.std()"
      ],
      "execution_count": null,
      "outputs": [
        {
          "output_type": "execute_result",
          "data": {
            "text/plain": [
              "1.0"
            ]
          },
          "metadata": {},
          "execution_count": 35
        }
      ]
    },
    {
      "cell_type": "markdown",
      "metadata": {
        "id": "quLbTU-LXFEu"
      },
      "source": [
        "Splitting data"
      ]
    },
    {
      "cell_type": "code",
      "metadata": {
        "id": "dLIqIcJZXca4"
      },
      "source": [
        "#We will split the dataset into 2 parts, 70% for training and 30% for testing\n",
        "from sklearn.model_selection import train_test_split\n",
        "X_train, X_test, y_train, y_test = train_test_split(X, y, test_size=0.3, random_state=42)"
      ],
      "execution_count": null,
      "outputs": []
    },
    {
      "cell_type": "markdown",
      "metadata": {
        "id": "3OwpxSCYWW9e"
      },
      "source": [
        "#Modeling"
      ]
    },
    {
      "cell_type": "markdown",
      "metadata": {
        "id": "3TA7oP93WZ1_"
      },
      "source": [
        "Random Forest model"
      ]
    },
    {
      "cell_type": "code",
      "metadata": {
        "id": "iAkUf6NKZ2Vp",
        "colab": {
          "base_uri": "https://localhost:8080/"
        },
        "outputId": "2d05be14-0b0f-42dc-ca3d-e16bbd617b7c"
      },
      "source": [
        "reg=RandomForestRegressor(n_estimators=500,random_state=42, max_features=0.3, max_depth=10, min_samples_leaf=3)\n",
        "reg.fit(X_train,y_train)"
      ],
      "execution_count": null,
      "outputs": [
        {
          "output_type": "execute_result",
          "data": {
            "text/plain": [
              "RandomForestRegressor(max_depth=10, max_features=0.3, min_samples_leaf=3,\n",
              "                      n_estimators=500, random_state=42)"
            ]
          },
          "metadata": {},
          "execution_count": 37
        }
      ]
    },
    {
      "cell_type": "code",
      "metadata": {
        "id": "LryMG8WWZ3WL"
      },
      "source": [
        "#set up arrays to store n_estimators, training and testing accuracies\n",
        "estimators = np.arange(1, 100)\n",
        "train_R_Squared = np.empty(len(estimators))\n",
        "test_R_Squared = np.empty(len(estimators))\n",
        "\n",
        "for i, n in enumerate(estimators):\n",
        "\n",
        "    #set up randomforest with n_estimators\n",
        "    reg=RandomForestRegressor(n_estimators=n,random_state=42, max_features=0.3, max_depth=10, min_samples_leaf=3)\n",
        "    #fit the model\n",
        "    reg.fit(X_train,y_train)\n",
        "\n",
        "    #computing R squared on the training set\n",
        "    train_R_Squared[i] = reg.score(X_train, y_train)\n",
        "\n",
        "    #computing R squared on the test set\n",
        "    test_R_Squared[i] = reg.score(X_test, y_test)"
      ],
      "execution_count": null,
      "outputs": []
    },
    {
      "cell_type": "markdown",
      "metadata": {
        "id": "loxwFtXQvTXK"
      },
      "source": [
        "Evaluation of Random Forest model"
      ]
    },
    {
      "cell_type": "code",
      "metadata": {
        "id": "D7SAX0rna-BD",
        "colab": {
          "base_uri": "https://localhost:8080/",
          "height": 295
        },
        "outputId": "21f2bf34-e6ca-4e40-c51d-187fc5777748"
      },
      "source": [
        "#Now we are showing the line graph about testing accuracy and training accuracy\n",
        "plt.title('Random Forest varying number of n_estimators')\n",
        "plt.plot(estimators, test_R_Squared, label='R Squared ofTesting')\n",
        "plt.plot(estimators, train_R_Squared, label='R squared of Training')\n",
        "plt.legend()\n",
        "plt.xlabel('Number of estimators')\n",
        "plt.ylabel('R Squared')\n",
        "plt.show()"
      ],
      "execution_count": null,
      "outputs": [
        {
          "output_type": "display_data",
          "data": {
            "image/png": "[encoded data removed]",
            "text/plain": [
              "<Figure size 432x288 with 1 Axes>"
            ]
          },
          "metadata": {
            "needs_background": "light"
          }
        }
      ]
    },
    {
      "cell_type": "code",
      "metadata": {
        "id": "I8P1AkfIbPQm",
        "colab": {
          "base_uri": "https://localhost:8080/"
        },
        "outputId": "dcb101e3-f6e7-41fb-ca94-c27d7a42cf49"
      },
      "source": [
        "result_test = reg.score(X_test, y_test)\n",
        "result_train = reg.score(X_train, y_train)\n",
        "print('R Squared of testing = ', result_test)\n",
        "print('R squared of training = ', result_train)"
      ],
      "execution_count": null,
      "outputs": [
        {
          "output_type": "stream",
          "name": "stdout",
          "text": [
            "R Squared of testing =  0.9266072480726615\n",
            "R squared of training =  0.9611793470840871\n"
          ]
        }
      ]
    },
    {
      "cell_type": "code",
      "metadata": {
        "id": "DJ3mfMS8bSq6"
      },
      "source": [
        "pred = reg.predict(X_test)"
      ],
      "execution_count": null,
      "outputs": []
    },
    {
      "cell_type": "code",
      "metadata": {
        "id": "CCtATSWrbUhQ"
      },
      "source": [
        "#Calculating mean square error\n",
        "difference_array = np.subtract(y_test, pred)\n",
        "squared_array = np.square(difference_array)\n",
        "MSE = squared_array.mean()"
      ],
      "execution_count": null,
      "outputs": []
    },
    {
      "cell_type": "code",
      "metadata": {
        "id": "9mcK_C7ibZ0m",
        "colab": {
          "base_uri": "https://localhost:8080/"
        },
        "outputId": "51ca4919-5849-4c90-8b4b-576c44d72b32"
      },
      "source": [
        "print('Mean Square Error: ', MSE)"
      ],
      "execution_count": null,
      "outputs": [
        {
          "output_type": "stream",
          "name": "stdout",
          "text": [
            "Mean Square Error:  1.952357008760385\n"
          ]
        }
      ]
    },
    {
      "cell_type": "code",
      "metadata": {
        "id": "in_pNQnBbh90",
        "colab": {
          "base_uri": "https://localhost:8080/",
          "height": 351
        },
        "outputId": "38b70337-7fa8-45ca-b9ad-f832e3f073eb"
      },
      "source": [
        "plt.scatter(y_test, pred)\n",
        "sns.regplot(pred,y_test,line_kws={'color':'black','alpha':0.5})\n",
        "plt.ylabel('Predicted')\n",
        "plt.xlabel('Y test')"
      ],
      "execution_count": null,
      "outputs": [
        {
          "output_type": "stream",
          "name": "stderr",
          "text": [
            "/usr/local/lib/python3.7/dist-packages/seaborn/_decorators.py:43: FutureWarning: Pass the following variables as keyword args: x, y. From version 0.12, the only valid positional argument will be `data`, and passing other arguments without an explicit keyword will result in an error or misinterpretation.\n",
            "  FutureWarning\n"
          ]
        },
        {
          "output_type": "execute_result",
          "data": {
            "text/plain": [
              "Text(0.5, 0, 'Y test')"
            ]
          },
          "metadata": {},
          "execution_count": 44
        },
        {
          "output_type": "display_data",
          "data": {
            "image/png": "[encoded data removed]",
            "text/plain": [
              "<Figure size 432x288 with 1 Axes>"
            ]
          },
          "metadata": {
            "needs_background": "light"
          }
        }
      ]
    },
    {
      "cell_type": "markdown",
      "metadata": {
        "id": "jxEEV2s9bepd"
      },
      "source": [
        "KNN"
      ]
    },
    {
      "cell_type": "code",
      "metadata": {
        "id": "vRXaAs8Nbf1O"
      },
      "source": [
        "from sklearn.neighbors import KNeighborsRegressor\n",
        "from sklearn.model_selection import GridSearchCV"
      ],
      "execution_count": null,
      "outputs": []
    },
    {
      "cell_type": "code",
      "metadata": {
        "id": "DHhVn2L8boyE",
        "colab": {
          "base_uri": "https://localhost:8080/"
        },
        "outputId": "b8fe7f33-b765-4343-861d-924439f96f24"
      },
      "source": [
        "knn_params = {\"n_neighbors\" : np.arange(1,11,1)}\n",
        "knn = KNeighborsRegressor()\n",
        "#cv is cross-validation\n",
        "knn_cv_model = GridSearchCV(knn, knn_params, cv = 10)\n",
        "knn_cv_model.fit(X_train, y_train)"
      ],
      "execution_count": null,
      "outputs": [
        {
          "output_type": "execute_result",
          "data": {
            "text/plain": [
              "GridSearchCV(cv=10, estimator=KNeighborsRegressor(),\n",
              "             param_grid={'n_neighbors': array([ 1,  2,  3,  4,  5,  6,  7,  8,  9, 10])})"
            ]
          },
          "metadata": {},
          "execution_count": 46
        }
      ]
    },
    {
      "cell_type": "code",
      "metadata": {
        "id": "s5a6cx6nbqNy",
        "colab": {
          "base_uri": "https://localhost:8080/"
        },
        "outputId": "75c39c4a-b761-4900-fc50-258c87389472"
      },
      "source": [
        "print(\"optimal K = \", knn_cv_model.best_params_[\"n_neighbors\"])"
      ],
      "execution_count": null,
      "outputs": [
        {
          "output_type": "stream",
          "name": "stdout",
          "text": [
            "optimal K =  7\n"
          ]
        }
      ]
    },
    {
      "cell_type": "code",
      "metadata": {
        "id": "lAyeO_4fbrpx"
      },
      "source": [
        "knn_model = KNeighborsRegressor(n_neighbors = knn_cv_model.best_params_[\"n_neighbors\"]).fit(X_train, y_train)\n",
        "y_pred = knn_model.predict(X_test)"
      ],
      "execution_count": null,
      "outputs": []
    },
    {
      "cell_type": "markdown",
      "metadata": {
        "id": "83vha9nPcAuA"
      },
      "source": [
        "Evaluation of KNN model"
      ]
    },
    {
      "cell_type": "code",
      "metadata": {
        "id": "x0es83h0btE3",
        "colab": {
          "base_uri": "https://localhost:8080/"
        },
        "outputId": "95e45724-f026-46a7-895a-3e5d4399ba69"
      },
      "source": [
        "print(\"R squared of training: \", knn_model.score(X_train, y_train))\n",
        "print(\"R squared of testing: \", knn_model.score(X_test, y_test))"
      ],
      "execution_count": null,
      "outputs": [
        {
          "output_type": "stream",
          "name": "stdout",
          "text": [
            "R squared of training:  0.9606504379280163\n",
            "R squared of testing:  0.9479347193985699\n"
          ]
        }
      ]
    },
    {
      "cell_type": "code",
      "metadata": {
        "id": "mDjr3MYDbu_j"
      },
      "source": [
        "#Calculating mean square error\n",
        "difference_array = np.subtract(y_test, pred)\n",
        "squared_array = np.square(difference_array)\n",
        "MSE = squared_array.mean()"
      ],
      "execution_count": null,
      "outputs": []
    },
    {
      "cell_type": "code",
      "metadata": {
        "id": "YAiyW9CkbxZe",
        "colab": {
          "base_uri": "https://localhost:8080/"
        },
        "outputId": "127b8ade-5078-4cac-faf3-283f8fd96f9b"
      },
      "source": [
        "print('Mean Square Error: ', MSE)"
      ],
      "execution_count": null,
      "outputs": [
        {
          "output_type": "stream",
          "name": "stdout",
          "text": [
            "Mean Square Error:  1.952357008760385\n"
          ]
        }
      ]
    },
    {
      "cell_type": "code",
      "metadata": {
        "id": "hVCJMAehbzFL",
        "colab": {
          "base_uri": "https://localhost:8080/",
          "height": 351
        },
        "outputId": "f9be68e7-274b-45bf-bf56-44f2c6f055ec"
      },
      "source": [
        "plt.scatter(y_test, pred)\n",
        "sns.regplot(pred,y_test,line_kws={'color':'black','alpha':0.5})\n",
        "plt.ylabel('Predicted')\n",
        "plt.xlabel('Y test')"
      ],
      "execution_count": null,
      "outputs": [
        {
          "output_type": "stream",
          "name": "stderr",
          "text": [
            "/usr/local/lib/python3.7/dist-packages/seaborn/_decorators.py:43: FutureWarning: Pass the following variables as keyword args: x, y. From version 0.12, the only valid positional argument will be `data`, and passing other arguments without an explicit keyword will result in an error or misinterpretation.\n",
            "  FutureWarning\n"
          ]
        },
        {
          "output_type": "execute_result",
          "data": {
            "text/plain": [
              "Text(0.5, 0, 'Y test')"
            ]
          },
          "metadata": {},
          "execution_count": 52
        },
        {
          "output_type": "display_data",
          "data": {
            "image/png": "[encoded data removed]",
            "text/plain": [
              "<Figure size 432x288 with 1 Axes>"
            ]
          },
          "metadata": {
            "needs_background": "light"
          }
        }
      ]
    },
    {
      "cell_type": "markdown",
      "metadata": {
        "id": "uzYKdCGIcE4V"
      },
      "source": [
        "Neural Networks"
      ]
    },
    {
      "cell_type": "code",
      "metadata": {
        "id": "lB79Vnt1cHmi"
      },
      "source": [
        "import xgboost as xgb\n",
        "from sklearn import linear_model\n",
        "from sklearn.neural_network import MLPRegressor\n",
        "from sklearn import ensemble\n",
        "from sklearn.svm import SVR\n",
        "from sklearn.metrics import mean_squared_error"
      ],
      "execution_count": null,
      "outputs": []
    },
    {
      "cell_type": "code",
      "metadata": {
        "id": "E5tmXwjRcKMl"
      },
      "source": [
        "model_NN = MLPRegressor(solver='lbfgs', hidden_layer_sizes=30,\n",
        "                           max_iter=100, random_state=42,\n",
        "                           activation=\"relu\") "
      ],
      "execution_count": null,
      "outputs": []
    },
    {
      "cell_type": "code",
      "metadata": {
        "id": "Qn3d4NJscL1J",
        "colab": {
          "base_uri": "https://localhost:8080/"
        },
        "outputId": "bf6c4aa6-a2d9-4acb-9050-4d6e930c4cca"
      },
      "source": [
        "model_NN.fit(X_train, y_train)"
      ],
      "execution_count": null,
      "outputs": [
        {
          "output_type": "stream",
          "name": "stderr",
          "text": [
            "/usr/local/lib/python3.7/dist-packages/sklearn/neural_network/_multilayer_perceptron.py:549: ConvergenceWarning: lbfgs failed to converge (status=1):\n",
            "STOP: TOTAL NO. of ITERATIONS REACHED LIMIT.\n",
            "\n",
            "Increase the number of iterations (max_iter) or scale the data as shown in:\n",
            "    https://scikit-learn.org/stable/modules/preprocessing.html\n",
            "  self.n_iter_ = _check_optimize_result(\"lbfgs\", opt_res, self.max_iter)\n"
          ]
        },
        {
          "output_type": "execute_result",
          "data": {
            "text/plain": [
              "MLPRegressor(hidden_layer_sizes=30, max_iter=100, random_state=42,\n",
              "             solver='lbfgs')"
            ]
          },
          "metadata": {},
          "execution_count": 55
        }
      ]
    },
    {
      "cell_type": "code",
      "metadata": {
        "id": "dzH84YcOcOly"
      },
      "source": [
        "y_pred = model_NN.predict(X_test)"
      ],
      "execution_count": null,
      "outputs": []
    },
    {
      "cell_type": "markdown",
      "metadata": {
        "id": "2QSa7_9WcRCi"
      },
      "source": [
        "Evaluation of Neural Networks model"
      ]
    },
    {
      "cell_type": "code",
      "metadata": {
        "id": "Jr7N77E8cU72",
        "colab": {
          "base_uri": "https://localhost:8080/"
        },
        "outputId": "3b861664-faf2-40a1-bddb-78c15e936296"
      },
      "source": [
        "print('R squared of training: ',model_NN.score(X_train, y_train))"
      ],
      "execution_count": null,
      "outputs": [
        {
          "output_type": "stream",
          "name": "stdout",
          "text": [
            "R squared of training:  0.961871554374515\n"
          ]
        }
      ]
    },
    {
      "cell_type": "code",
      "metadata": {
        "id": "E_cC4ULscYDA",
        "colab": {
          "base_uri": "https://localhost:8080/"
        },
        "outputId": "b33de79d-48bb-4705-f815-83b215fb71b8"
      },
      "source": [
        "print('R squared of testing: ',model_NN.score(X_test, y_test))"
      ],
      "execution_count": null,
      "outputs": [
        {
          "output_type": "stream",
          "name": "stdout",
          "text": [
            "R squared of testing:  0.9599262587176876\n"
          ]
        }
      ]
    },
    {
      "cell_type": "code",
      "metadata": {
        "id": "O5FP54Qocbhz"
      },
      "source": [
        "#Calculating mean square error\n",
        "difference_array = np.subtract(y_test, pred)\n",
        "squared_array = np.square(difference_array)\n",
        "MSE = squared_array.mean()"
      ],
      "execution_count": null,
      "outputs": []
    },
    {
      "cell_type": "code",
      "metadata": {
        "id": "52oZQQ2wcdbY",
        "colab": {
          "base_uri": "https://localhost:8080/"
        },
        "outputId": "d3463464-d75b-4309-e11f-41c9a81c9e47"
      },
      "source": [
        "print('Mean Square Error: ', MSE)"
      ],
      "execution_count": null,
      "outputs": [
        {
          "output_type": "stream",
          "name": "stdout",
          "text": [
            "Mean Square Error:  1.952357008760385\n"
          ]
        }
      ]
    },
    {
      "cell_type": "code",
      "metadata": {
        "id": "RHqpDEOGceUk",
        "colab": {
          "base_uri": "https://localhost:8080/",
          "height": 351
        },
        "outputId": "42fe21d9-910c-49dd-e1d7-8b7b153a1cd3"
      },
      "source": [
        "plt.scatter(y_test, pred)\n",
        "sns.regplot(pred,y_test,line_kws={'color':'black','alpha':0.5})\n",
        "plt.ylabel('Predicted')\n",
        "plt.xlabel('Y test')"
      ],
      "execution_count": null,
      "outputs": [
        {
          "output_type": "stream",
          "name": "stderr",
          "text": [
            "/usr/local/lib/python3.7/dist-packages/seaborn/_decorators.py:43: FutureWarning: Pass the following variables as keyword args: x, y. From version 0.12, the only valid positional argument will be `data`, and passing other arguments without an explicit keyword will result in an error or misinterpretation.\n",
            "  FutureWarning\n"
          ]
        },
        {
          "output_type": "execute_result",
          "data": {
            "text/plain": [
              "Text(0.5, 0, 'Y test')"
            ]
          },
          "metadata": {},
          "execution_count": 61
        },
        {
          "output_type": "display_data",
          "data": {
            "image/png": "[encoded data removed]",
            "text/plain": [
              "<Figure size 432x288 with 1 Axes>"
            ]
          },
          "metadata": {
            "needs_background": "light"
          }
        }
      ]
    }
  ]
}